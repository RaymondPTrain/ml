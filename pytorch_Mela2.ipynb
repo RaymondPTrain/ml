{
  "nbformat": 4,
  "nbformat_minor": 0,
  "metadata": {
    "kernelspec": {
      "display_name": "Python 3",
      "language": "python",
      "name": "python3"
    },
    "language_info": {
      "codemirror_mode": {
        "name": "ipython",
        "version": 3
      },
      "file_extension": ".py",
      "mimetype": "text/x-python",
      "name": "python",
      "nbconvert_exporter": "python",
      "pygments_lexer": "ipython3",
      "version": "3.6.8"
    },
    "colab": {
      "name": "pytorch data_loading_tutorial.ipynb",
      "provenance": [],
      "toc_visible": true,
      "include_colab_link": true
    }
  },
  "cells": [
    {
      "cell_type": "markdown",
      "metadata": {
        "id": "view-in-github",
        "colab_type": "text"
      },
      "source": [
        "<a href=\"https://colab.research.google.com/github/RaymondPTrain/ml/blob/master/pytorch_Mela2.ipynb\" target=\"_parent\"><img src=\"https://colab.research.google.com/assets/colab-badge.svg\" alt=\"Open In Colab\"/></a>"
      ]
    },
    {
      "cell_type": "markdown",
      "metadata": {
        "id": "DAKgvKG_Rtut"
      },
      "source": [
        "### Based on and derived from this pytorch tutorial:\n",
        "\n",
        "Writing Custom Datasets, DataLoaders and Transforms\n",
        "Author: Sasank Chilamkurthy <https://chsasank.github.io>_"
      ]
    },
    {
      "cell_type": "code",
      "metadata": {
        "id": "a2PlXwfAHcWW",
        "outputId": "bcff9e12-f468-4949-86eb-987eabc67215",
        "colab": {
          "base_uri": "https://localhost:8080/",
          "height": 34
        }
      },
      "source": [
        "from google.colab import drive\n",
        "drive.mount(\"/content/drive\")"
      ],
      "execution_count": 1,
      "outputs": [
        {
          "output_type": "stream",
          "text": [
            "Mounted at /content/drive\n"
          ],
          "name": "stdout"
        }
      ]
    },
    {
      "cell_type": "code",
      "metadata": {
        "id": "CGYx048UD1fd"
      },
      "source": [
        "%matplotlib inline"
      ],
      "execution_count": 2,
      "outputs": []
    },
    {
      "cell_type": "markdown",
      "metadata": {
        "id": "Isb3K7WLD1fy"
      },
      "source": [
        "\n",
        "\n",
        "To run this tutorial, please make sure the following packages are\n",
        "installed:\n",
        "\n",
        "-  ``scikit-image``: For image io and transforms\n",
        "-  ``pandas``: For easier csv parsing\n",
        "\n",
        "\n"
      ]
    },
    {
      "cell_type": "code",
      "metadata": {
        "id": "Z2VwrZ4-D1f1"
      },
      "source": [
        "from __future__ import print_function, division\n",
        "import os\n",
        "import torch\n",
        "import pandas as pd\n",
        "from skimage import io, transform\n",
        "import numpy as np\n",
        "import matplotlib.pyplot as plt\n",
        "from torch.utils.data import Dataset, DataLoader\n",
        "from torchvision import transforms, utils\n",
        "from os import walk\n",
        "\n",
        "# Ignore warnings\n",
        "import warnings\n",
        "warnings.filterwarnings(\"ignore\")\n",
        "\n",
        "plt.ion()   # interactive mode"
      ],
      "execution_count": 3,
      "outputs": []
    },
    {
      "cell_type": "markdown",
      "metadata": {
        "id": "oibAOdZPD1gB"
      },
      "source": [
        "Confirm the files are accessible.\n",
        "\n",
        "\n"
      ]
    },
    {
      "cell_type": "code",
      "metadata": {
        "id": "G-FwDlVrwaWf"
      },
      "source": [
        "from os import walk\n",
        "mypath = '/content/drive/My Drive/MelanomaDetection/unlabeled'\n",
        "f = []\n",
        "for (dirpath, dirnames, filenames) in walk(mypath):\n",
        "    f.extend(filenames)\n",
        "    break"
      ],
      "execution_count": 4,
      "outputs": []
    },
    {
      "cell_type": "code",
      "metadata": {
        "id": "V1ovRCB9xBqv",
        "outputId": "24e31736-e73a-4be3-e963-1e2297b79008",
        "colab": {
          "base_uri": "https://localhost:8080/",
          "height": 34
        }
      },
      "source": [
        "len(filenames)"
      ],
      "execution_count": 5,
      "outputs": [
        {
          "output_type": "execute_result",
          "data": {
            "text/plain": [
              "7018"
            ]
          },
          "metadata": {
            "tags": []
          },
          "execution_count": 5
        }
      ]
    },
    {
      "cell_type": "markdown",
      "metadata": {
        "id": "49wlZx3VD1gi"
      },
      "source": [
        "Dataset class\n",
        "-------------\n",
        "\n",
        "``torch.utils.data.Dataset`` is an abstract class representing a\n",
        "dataset.\n",
        "Add new class based on this class.\n",
        "\n",
        "-  ``__len__`` so that ``len(dataset)`` returns the size of the dataset.\n",
        "-  ``__getitem__`` to support the indexing such that ``dataset[i]`` can\n",
        "   be used to get $i$\\ th sample\n",
        "\n",
        "\n",
        "\n",
        "\n"
      ]
    },
    {
      "cell_type": "code",
      "metadata": {
        "id": "QqPyOT-UD1gk"
      },
      "source": [
        "class MelanomaDataset(Dataset):\n",
        "\n",
        "    def __init__(self, root_dir, transform=None):\n",
        "        \"\"\"\n",
        "        Args:\n",
        "            root_dir (string): Directory with all the images.\n",
        "            transform (callable, optional): Optional transform to be applied\n",
        "                on a sample.\n",
        "        \"\"\"\n",
        "        \n",
        "        f = []\n",
        "        for (dirpath, dirnames, filenames) in walk(root_dir):\n",
        "          f.extend(filenames)\n",
        "          break\n",
        "        self.dframe = pd.DataFrame (f,columns=['image_name'])\n",
        "        self.root_dir = root_dir\n",
        "        self.transform = transform\n",
        "\n",
        "    def __len__(self):\n",
        "        return len(self.dframe)\n",
        "\n",
        "    def __getitem__(self, idx):\n",
        "        if torch.is_tensor(idx):\n",
        "            idx = idx.tolist()\n",
        "\n",
        "        img_name = os.path.join(self.root_dir,\n",
        "                                self.dframe.iloc[idx, 0])\n",
        "        file_name = self.dframe.iloc[idx, 0]\n",
        "        image = io.imread(img_name)\n",
        "        sample = {'image': image, 'imgName': file_name}\n",
        "\n",
        "        if self.transform:\n",
        "            sample = self.transform(sample)\n",
        "\n",
        "        return sample"
      ],
      "execution_count": 6,
      "outputs": []
    },
    {
      "cell_type": "code",
      "metadata": {
        "id": "mgpI9GSRzSNu"
      },
      "source": [
        "x_dataset = MelanomaDataset( '/content/drive/My Drive/MelanomaDetection/unlabeled')"
      ],
      "execution_count": 7,
      "outputs": []
    },
    {
      "cell_type": "code",
      "metadata": {
        "id": "buYvgd5IzuIG",
        "outputId": "4622b801-7249-466b-843c-322543501221",
        "colab": {
          "base_uri": "https://localhost:8080/",
          "height": 34
        }
      },
      "source": [
        "print(len(x_dataset))\n",
        "s = x_dataset[27]\n"
      ],
      "execution_count": 8,
      "outputs": [
        {
          "output_type": "stream",
          "text": [
            "7018\n"
          ],
          "name": "stdout"
        }
      ]
    },
    {
      "cell_type": "code",
      "metadata": {
        "id": "bw5ArO9kg4qZ",
        "outputId": "60bb53e8-ba4d-4283-d29e-37d0e0e4d5f8",
        "colab": {
          "base_uri": "https://localhost:8080/",
          "height": 850
        }
      },
      "source": [
        "s"
      ],
      "execution_count": 9,
      "outputs": [
        {
          "output_type": "execute_result",
          "data": {
            "text/plain": [
              "{'image': array([[[101,  75, 100],\n",
              "         [120,  96, 122],\n",
              "         [139, 116, 144],\n",
              "         ...,\n",
              "         [173, 147, 192],\n",
              "         [167, 141, 188],\n",
              "         [159, 133, 180]],\n",
              " \n",
              "        [[117,  93, 117],\n",
              "         [133, 109, 135],\n",
              "         [149, 126, 154],\n",
              "         ...,\n",
              "         [177, 154, 198],\n",
              "         [173, 147, 192],\n",
              "         [166, 140, 187]],\n",
              " \n",
              "        [[135, 112, 138],\n",
              "         [147, 124, 150],\n",
              "         [156, 136, 163],\n",
              "         ...,\n",
              "         [185, 162, 204],\n",
              "         [180, 157, 201],\n",
              "         [173, 150, 194]],\n",
              " \n",
              "        ...,\n",
              " \n",
              "        [[170, 137, 182],\n",
              "         [173, 140, 185],\n",
              "         [178, 145, 190],\n",
              "         ...,\n",
              "         [175, 144, 186],\n",
              "         [172, 141, 183],\n",
              "         [171, 140, 182]],\n",
              " \n",
              "        [[163, 130, 175],\n",
              "         [167, 134, 179],\n",
              "         [172, 141, 185],\n",
              "         ...,\n",
              "         [175, 144, 185],\n",
              "         [171, 139, 180],\n",
              "         [168, 136, 177]],\n",
              " \n",
              "        [[155, 122, 167],\n",
              "         [159, 126, 171],\n",
              "         [165, 134, 178],\n",
              "         ...,\n",
              "         [176, 144, 185],\n",
              "         [171, 139, 180],\n",
              "         [166, 134, 175]]], dtype=uint8), 'imgName': '6097.jpg'}"
            ]
          },
          "metadata": {
            "tags": []
          },
          "execution_count": 9
        }
      ]
    },
    {
      "cell_type": "markdown",
      "metadata": {
        "id": "a1sIL_ylD1gw"
      },
      "source": [
        "Let's instantiate this class and iterate through the data samples. \n",
        "\n",
        "\n"
      ]
    },
    {
      "cell_type": "code",
      "metadata": {
        "id": "EgNIEVOsmjFv",
        "outputId": "2dd39ca0-e79c-471c-8e8b-6ad484234191",
        "colab": {
          "base_uri": "https://localhost:8080/",
          "height": 34
        }
      },
      "source": [
        "x_dataset"
      ],
      "execution_count": 73,
      "outputs": [
        {
          "output_type": "execute_result",
          "data": {
            "text/plain": [
              "<__main__.MelanomaDataset at 0x7fe8387eb978>"
            ]
          },
          "metadata": {
            "tags": []
          },
          "execution_count": 73
        }
      ]
    },
    {
      "cell_type": "code",
      "metadata": {
        "id": "lpgTAiqPqBuv",
        "outputId": "0f42960a-f8d4-41d5-9faf-6913e5cb1c63",
        "colab": {
          "base_uri": "https://localhost:8080/",
          "height": 1000
        }
      },
      "source": [
        "for i in range(len(x_dataset)):\n",
        "    sample = x_dataset[i+100]\n",
        "    print(i, sample['image'].shape,sample['imgName'])\n",
        "    plt.imshow(sample['image'])\n",
        "    plt.show()\n",
        "    if i > 10:\n",
        "      break"
      ],
      "execution_count": 10,
      "outputs": [
        {
          "output_type": "stream",
          "text": [
            "0 (32, 32, 3) 5172.jpg\n"
          ],
          "name": "stdout"
        },
        {
          "output_type": "display_data",
          "data": {
            "image/png": "[encoded data removed]",
            "text/plain": [
              "<Figure size 432x288 with 1 Axes>"
            ]
          },
          "metadata": {
            "tags": [],
            "needs_background": "light"
          }
        },
        {
          "output_type": "stream",
          "text": [
            "1 (32, 32, 3) 3012.jpg\n"
          ],
          "name": "stdout"
        },
        {
          "output_type": "display_data",
          "data": {
            "image/png": "[encoded data removed]",
            "text/plain": [
              "<Figure size 432x288 with 1 Axes>"
            ]
          },
          "metadata": {
            "tags": [],
            "needs_background": "light"
          }
        },
        {
          "output_type": "stream",
          "text": [
            "2 (32, 32, 3) 4750.jpg\n"
          ],
          "name": "stdout"
        },
        {
          "output_type": "display_data",
          "data": {
            "image/png": "[encoded data removed]",
            "text/plain": [
              "<Figure size 432x288 with 1 Axes>"
            ]
          },
          "metadata": {
            "tags": [],
            "needs_background": "light"
          }
        },
        {
          "output_type": "stream",
          "text": [
            "3 (32, 32, 3) 5580.jpg\n"
          ],
          "name": "stdout"
        },
        {
          "output_type": "display_data",
          "data": {
            "image/png": "[encoded data removed]",
            "text/plain": [
              "<Figure size 432x288 with 1 Axes>"
            ]
          },
          "metadata": {
            "tags": [],
            "needs_background": "light"
          }
        },
        {
          "output_type": "stream",
          "text": [
            "4 (32, 32, 3) 3922.jpg\n"
          ],
          "name": "stdout"
        },
        {
          "output_type": "display_data",
          "data": {
            "image/png": "[encoded data removed]",
            "text/plain": [
              "<Figure size 432x288 with 1 Axes>"
            ]
          },
          "metadata": {
            "tags": [],
            "needs_background": "light"
          }
        },
        {
          "output_type": "stream",
          "text": [
            "5 (32, 32, 3) 3612.jpg\n"
          ],
          "name": "stdout"
        },
        {
          "output_type": "display_data",
          "data": {
            "image/png": "[encoded data removed]",
            "text/plain": [
              "<Figure size 432x288 with 1 Axes>"
            ]
          },
          "metadata": {
            "tags": [],
            "needs_background": "light"
          }
        },
        {
          "output_type": "stream",
          "text": [
            "6 (32, 32, 3) 871.jpg\n"
          ],
          "name": "stdout"
        },
        {
          "output_type": "display_data",
          "data": {
            "image/png": "[encoded data removed]",
            "text/plain": [
              "<Figure size 432x288 with 1 Axes>"
            ]
          },
          "metadata": {
            "tags": [],
            "needs_background": "light"
          }
        },
        {
          "output_type": "stream",
          "text": [
            "7 (32, 32, 3) 1909.jpg\n"
          ],
          "name": "stdout"
        },
        {
          "output_type": "display_data",
          "data": {
            "image/png": "[encoded data removed]",
            "text/plain": [
              "<Figure size 432x288 with 1 Axes>"
            ]
          },
          "metadata": {
            "tags": [],
            "needs_background": "light"
          }
        },
        {
          "output_type": "stream",
          "text": [
            "8 (32, 32, 3) 3603.jpg\n"
          ],
          "name": "stdout"
        },
        {
          "output_type": "display_data",
          "data": {
            "image/png": "[encoded data removed]",
            "text/plain": [
              "<Figure size 432x288 with 1 Axes>"
            ]
          },
          "metadata": {
            "tags": [],
            "needs_background": "light"
          }
        },
        {
          "output_type": "stream",
          "text": [
            "9 (32, 32, 3) 4804.jpg\n"
          ],
          "name": "stdout"
        },
        {
          "output_type": "display_data",
          "data": {
            "image/png": "[encoded data removed]",
            "text/plain": [
              "<Figure size 432x288 with 1 Axes>"
            ]
          },
          "metadata": {
            "tags": [],
            "needs_background": "light"
          }
        },
        {
          "output_type": "stream",
          "text": [
            "10 (32, 32, 3) 653.jpg\n"
          ],
          "name": "stdout"
        },
        {
          "output_type": "display_data",
          "data": {
            "image/png": "[encoded data removed]",
            "text/plain": [
              "<Figure size 432x288 with 1 Axes>"
            ]
          },
          "metadata": {
            "tags": [],
            "needs_background": "light"
          }
        },
        {
          "output_type": "stream",
          "text": [
            "11 (32, 32, 3) 2103.jpg\n"
          ],
          "name": "stdout"
        },
        {
          "output_type": "display_data",
          "data": {
            "image/png": "[encoded data removed]",
            "text/plain": [
              "<Figure size 432x288 with 1 Axes>"
            ]
          },
          "metadata": {
            "tags": [],
            "needs_background": "light"
          }
        }
      ]
    },
    {
      "cell_type": "code",
      "metadata": {
        "id": "6Gv0AqvJgWIe"
      },
      "source": [
        ""
      ],
      "execution_count": null,
      "outputs": []
    },
    {
      "cell_type": "code",
      "metadata": {
        "id": "CldOLCtkgXsS"
      },
      "source": [
        "class MelanomaDatasetLabeled(Dataset):\n",
        "\n",
        "    def __init__(self, root_dir, transform=None):\n",
        "        \"\"\"\n",
        "        Args:\n",
        "            root_dir (string): Directory with all the images.\n",
        "            transform (callable, optional): Optional transform to be applied\n",
        "                on a sample.\n",
        "        \"\"\"\n",
        "        \n",
        "        f = []\n",
        "        for (dirpath, dirnames, filenames) in walk(root_dir):\n",
        "          f.extend(filenames)\n",
        "          break\n",
        "        self.dframe = pd.DataFrame (f,columns=['image_name'])\n",
        "        self.root_dir = root_dir\n",
        "        self.transform = transform\n",
        "\n",
        "    def __len__(self):\n",
        "        return len(self.dframe)\n",
        "\n",
        "    def __getitem__(self, idx):\n",
        "        if torch.is_tensor(idx):\n",
        "            idx = idx.tolist()\n",
        "\n",
        "        img_name = os.path.join(self.root_dir,\n",
        "                                self.dframe.iloc[idx, 0])\n",
        "        file_name = self.dframe.iloc[idx, 0]\n",
        "        dLabel = file_name.split(\".\",1)[0].split(\"_\")[1]\n",
        "        image = io.imread(img_name)\n",
        "\n",
        "        sample = {'image': image,  'imgName': file_name, 'label':dLabel}\n",
        "\n",
        "        if self.transform:\n",
        "            sample = self.transform(sample)\n",
        "\n",
        "        return sample"
      ],
      "execution_count": 12,
      "outputs": []
    },
    {
      "cell_type": "code",
      "metadata": {
        "id": "OJ38JZ8ch442"
      },
      "source": [
        ""
      ],
      "execution_count": null,
      "outputs": []
    },
    {
      "cell_type": "code",
      "metadata": {
        "id": "nv3sPMqhh7L7"
      },
      "source": [
        "y_dataset = MelanomaDatasetLabeled( '/content/drive/My Drive/MelanomaDetection/labeled')"
      ],
      "execution_count": 13,
      "outputs": []
    },
    {
      "cell_type": "code",
      "metadata": {
        "id": "BWxXmTbGiAel",
        "outputId": "0aea9d2b-8af7-454e-fa54-7421822f540f",
        "colab": {
          "base_uri": "https://localhost:8080/",
          "height": 34
        }
      },
      "source": [
        "print(len(y_dataset))\n",
        "s = y_dataset[27]"
      ],
      "execution_count": 62,
      "outputs": [
        {
          "output_type": "stream",
          "text": [
            "200\n"
          ],
          "name": "stdout"
        }
      ]
    },
    {
      "cell_type": "code",
      "metadata": {
        "id": "cmdHUvvEiWKO",
        "outputId": "80ebc60d-12f5-4c03-e13b-75cb39ed183a",
        "colab": {
          "base_uri": "https://localhost:8080/",
          "height": 850
        }
      },
      "source": [
        "s"
      ],
      "execution_count": 63,
      "outputs": [
        {
          "output_type": "execute_result",
          "data": {
            "text/plain": [
              "{'image': array([[[191, 124, 133],\n",
              "         [199, 132, 141],\n",
              "         [208, 141, 148],\n",
              "         ...,\n",
              "         [197, 131, 133],\n",
              "         [201, 135, 137],\n",
              "         [204, 138, 140]],\n",
              " \n",
              "        [[186, 121, 129],\n",
              "         [197, 132, 138],\n",
              "         [208, 143, 149],\n",
              "         ...,\n",
              "         [200, 134, 136],\n",
              "         [203, 137, 139],\n",
              "         [205, 139, 141]],\n",
              " \n",
              "        [[180, 115, 121],\n",
              "         [193, 128, 134],\n",
              "         [204, 139, 143],\n",
              "         ...,\n",
              "         [203, 137, 138],\n",
              "         [205, 139, 141],\n",
              "         [205, 139, 141]],\n",
              " \n",
              "        ...,\n",
              " \n",
              "        [[195, 133, 134],\n",
              "         [197, 135, 136],\n",
              "         [199, 137, 140],\n",
              "         ...,\n",
              "         [183, 106, 112],\n",
              "         [183, 107, 111],\n",
              "         [190, 114, 118]],\n",
              " \n",
              "        [[195, 133, 134],\n",
              "         [193, 131, 132],\n",
              "         [192, 130, 133],\n",
              "         ...,\n",
              "         [182, 107, 114],\n",
              "         [183, 106, 114],\n",
              "         [192, 115, 121]],\n",
              " \n",
              "        [[194, 132, 133],\n",
              "         [190, 128, 129],\n",
              "         [185, 123, 126],\n",
              "         ...,\n",
              "         [183, 108, 115],\n",
              "         [186, 111, 118],\n",
              "         [197, 122, 129]]], dtype=uint8), 'imgName': '111_1.jpg', 'label': '1'}"
            ]
          },
          "metadata": {
            "tags": []
          },
          "execution_count": 63
        }
      ]
    },
    {
      "cell_type": "code",
      "metadata": {
        "id": "CXlXRcCAwpso"
      },
      "source": [
        ""
      ],
      "execution_count": null,
      "outputs": []
    },
    {
      "cell_type": "code",
      "metadata": {
        "id": "Rjc27FupwrS6",
        "outputId": "93f74f4e-f69c-49e5-8151-5c0ef87d218c",
        "colab": {
          "base_uri": "https://localhost:8080/",
          "height": 1000
        }
      },
      "source": [
        "for i in range(len(y_dataset)):\n",
        "    sample = y_dataset[i+100]\n",
        "    print(i, sample['image'].shape,sample['imgName'],sample['label'])\n",
        "    plt.imshow(sample['image'])\n",
        "    plt.show()\n",
        "    if i > 10:\n",
        "      break"
      ],
      "execution_count": 14,
      "outputs": [
        {
          "output_type": "stream",
          "text": [
            "0 (32, 32, 3) 49_1.jpg 1\n"
          ],
          "name": "stdout"
        },
        {
          "output_type": "display_data",
          "data": {
            "image/png": "[encoded data removed]",
            "text/plain": [
              "<Figure size 432x288 with 1 Axes>"
            ]
          },
          "metadata": {
            "tags": [],
            "needs_background": "light"
          }
        },
        {
          "output_type": "stream",
          "text": [
            "1 (32, 32, 3) 11_0.jpg 0\n"
          ],
          "name": "stdout"
        },
        {
          "output_type": "display_data",
          "data": {
            "image/png": "[encoded data removed]",
            "text/plain": [
              "<Figure size 432x288 with 1 Axes>"
            ]
          },
          "metadata": {
            "tags": [],
            "needs_background": "light"
          }
        },
        {
          "output_type": "stream",
          "text": [
            "2 (32, 32, 3) 190_1.jpg 1\n"
          ],
          "name": "stdout"
        },
        {
          "output_type": "display_data",
          "data": {
            "image/png": "[encoded data removed]",
            "text/plain": [
              "<Figure size 432x288 with 1 Axes>"
            ]
          },
          "metadata": {
            "tags": [],
            "needs_background": "light"
          }
        },
        {
          "output_type": "stream",
          "text": [
            "3 (32, 32, 3) 124_0.jpg 0\n"
          ],
          "name": "stdout"
        },
        {
          "output_type": "display_data",
          "data": {
            "image/png": "[encoded data removed]",
            "text/plain": [
              "<Figure size 432x288 with 1 Axes>"
            ]
          },
          "metadata": {
            "tags": [],
            "needs_background": "light"
          }
        },
        {
          "output_type": "stream",
          "text": [
            "4 (32, 32, 3) 22_0.jpg 0\n"
          ],
          "name": "stdout"
        },
        {
          "output_type": "display_data",
          "data": {
            "image/png": "[encoded data removed]",
            "text/plain": [
              "<Figure size 432x288 with 1 Axes>"
            ]
          },
          "metadata": {
            "tags": [],
            "needs_background": "light"
          }
        },
        {
          "output_type": "stream",
          "text": [
            "5 (32, 32, 3) 8_1.jpg 1\n"
          ],
          "name": "stdout"
        },
        {
          "output_type": "display_data",
          "data": {
            "image/png": "[encoded data removed]",
            "text/plain": [
              "<Figure size 432x288 with 1 Axes>"
            ]
          },
          "metadata": {
            "tags": [],
            "needs_background": "light"
          }
        },
        {
          "output_type": "stream",
          "text": [
            "6 (32, 32, 3) 99_0.jpg 0\n"
          ],
          "name": "stdout"
        },
        {
          "output_type": "display_data",
          "data": {
            "image/png": "[encoded data removed]",
            "text/plain": [
              "<Figure size 432x288 with 1 Axes>"
            ]
          },
          "metadata": {
            "tags": [],
            "needs_background": "light"
          }
        },
        {
          "output_type": "stream",
          "text": [
            "7 (32, 32, 3) 104_1.jpg 1\n"
          ],
          "name": "stdout"
        },
        {
          "output_type": "display_data",
          "data": {
            "image/png": "[encoded data removed]",
            "text/plain": [
              "<Figure size 432x288 with 1 Axes>"
            ]
          },
          "metadata": {
            "tags": [],
            "needs_background": "light"
          }
        },
        {
          "output_type": "stream",
          "text": [
            "8 (32, 32, 3) 57_0.jpg 0\n"
          ],
          "name": "stdout"
        },
        {
          "output_type": "display_data",
          "data": {
            "image/png": "[encoded data removed]",
            "text/plain": [
              "<Figure size 432x288 with 1 Axes>"
            ]
          },
          "metadata": {
            "tags": [],
            "needs_background": "light"
          }
        },
        {
          "output_type": "stream",
          "text": [
            "9 (32, 32, 3) 79_0.jpg 0\n"
          ],
          "name": "stdout"
        },
        {
          "output_type": "display_data",
          "data": {
            "image/png": "[encoded data removed]",
            "text/plain": [
              "<Figure size 432x288 with 1 Axes>"
            ]
          },
          "metadata": {
            "tags": [],
            "needs_background": "light"
          }
        },
        {
          "output_type": "stream",
          "text": [
            "10 (32, 32, 3) 103_1.jpg 1\n"
          ],
          "name": "stdout"
        },
        {
          "output_type": "display_data",
          "data": {
            "image/png": "[encoded data removed]",
            "text/plain": [
              "<Figure size 432x288 with 1 Axes>"
            ]
          },
          "metadata": {
            "tags": [],
            "needs_background": "light"
          }
        },
        {
          "output_type": "stream",
          "text": [
            "11 (32, 32, 3) 35_1.jpg 1\n"
          ],
          "name": "stdout"
        },
        {
          "output_type": "display_data",
          "data": {
            "image/png": "[encoded data removed]",
            "text/plain": [
              "<Figure size 432x288 with 1 Axes>"
            ]
          },
          "metadata": {
            "tags": [],
            "needs_background": "light"
          }
        }
      ]
    },
    {
      "cell_type": "markdown",
      "metadata": {
        "id": "m5d33d9CD1g9"
      },
      "source": [
        "Transforms\n",
        "----------\n",
        "\n",
        "Let's create three transforms:\n",
        "\n",
        "-  ``Rescale``: to scale the image\n",
        "-  ``RandomCrop``: to crop from image randomly. This is data\n",
        "   augmentation.\n",
        "-  ``ToTensor``: to convert the numpy images to torch images (we need to\n",
        "   swap axes).\n",
        "\n",
        "We will write them as callable classes instead of simple functions so\n",
        "that parameters of the transform need not be passed everytime it's\n",
        "called. For this, we just need to implement ``__call__`` method and\n",
        "if required, ``__init__`` method. We can then use a transform like this:\n",
        "\n",
        "::\n",
        "\n",
        "    tsfm = Transform(params)\n",
        "    transformed_sample = tsfm(sample)\n",
        "\n",
        "\n",
        "    These transforms are similar to those in the base tutorial.  But are tailored for this new class.\n"
      ]
    },
    {
      "cell_type": "code",
      "metadata": {
        "id": "cDJmC6EaD1hA"
      },
      "source": [
        "class Rescale(object):\n",
        "    \"\"\"Rescale the image in a sample to a given size.\n",
        "\n",
        "    Args:\n",
        "        output_size (tuple or int): Desired output size. If tuple, output is\n",
        "            matched to output_size. If int, smaller of image edges is matched\n",
        "            to output_size keeping aspect ratio the same.\n",
        "    \"\"\"\n",
        "\n",
        "    def __init__(self, output_size):\n",
        "        assert isinstance(output_size, (int, tuple))\n",
        "        self.output_size = output_size\n",
        "\n",
        "    def __call__(self, sample):\n",
        "        image = sample['image']\n",
        "\n",
        "        h, w = image.shape[:2]\n",
        "        if isinstance(self.output_size, int):\n",
        "            if h > w:\n",
        "                new_h, new_w = self.output_size * h / w, self.output_size\n",
        "            else:\n",
        "                new_h, new_w = self.output_size, self.output_size * w / h\n",
        "        else:\n",
        "            new_h, new_w = self.output_size\n",
        "\n",
        "        new_h, new_w = int(new_h), int(new_w)\n",
        "\n",
        "        img = transform.resize(image, (new_h, new_w))\n",
        "\n",
        "\n",
        "        return {'image': img, 'imgName': sample['imgName']}\n",
        "\n",
        "\n",
        "class RandomCrop(object):\n",
        "    \"\"\"Crop randomly the image in a sample.\n",
        "\n",
        "    Args:\n",
        "        output_size (tuple or int): Desired output size. If int, square crop\n",
        "            is made.\n",
        "    \"\"\"\n",
        "\n",
        "    def __init__(self, output_size):\n",
        "        assert isinstance(output_size, (int, tuple))\n",
        "        if isinstance(output_size, int):\n",
        "            self.output_size = (output_size, output_size)\n",
        "        else:\n",
        "            assert len(output_size) == 2\n",
        "            self.output_size = output_size\n",
        "\n",
        "    def __call__(self, sample):\n",
        "        image = sample['image']\n",
        "\n",
        "        h, w = image.shape[:2]\n",
        "        new_h, new_w = self.output_size\n",
        "\n",
        "        top = np.random.randint(0, h - new_h)\n",
        "        left = np.random.randint(0, w - new_w)\n",
        "\n",
        "        image = image[top: top + new_h,\n",
        "                      left: left + new_w]\n",
        "\n",
        "\n",
        "        return {'image': image, 'imgName': sample['imgName']}\n",
        "\n",
        "\n",
        "class ToTensor(object):\n",
        "    \"\"\"Convert ndarrays in sample to Tensors.\"\"\"\n",
        "\n",
        "    def __call__(self, sample):\n",
        "        image= sample['image']\n",
        "\n",
        "        # swap color axis because\n",
        "        # numpy image: H x W x C\n",
        "        # torch image: C X H X W\n",
        "        image = image.transpose((2, 0, 1))\n",
        "        return {'image': torch.from_numpy(image), 'imgName': sample['imgName']}"
      ],
      "execution_count": 17,
      "outputs": []
    },
    {
      "cell_type": "markdown",
      "metadata": {
        "id": "JlMR6Y8eD1hY"
      },
      "source": [
        "Iterating through the dataset\n",
        "-----------------------------\n",
        "\n",
        "\n",
        "\n"
      ]
    },
    {
      "cell_type": "code",
      "metadata": {
        "id": "CmdOz-f9D1ha",
        "outputId": "69b1c2f6-f607-445e-e856-e9a4e3a2e43c",
        "colab": {
          "base_uri": "https://localhost:8080/",
          "height": 85
        }
      },
      "source": [
        "transformed_dataset = MelanomaDataset(root_dir='/content/drive/My Drive/MelanomaDetection/unlabeled',\n",
        "                                           transform=transforms.Compose([\n",
        "                                               Rescale(256),\n",
        "                                               RandomCrop(224),\n",
        "                                               ToTensor()\n",
        "                                           ]))\n",
        "\n",
        "for i in range(len(transformed_dataset)):\n",
        "    sample = transformed_dataset[i]\n",
        "\n",
        "    print(i, sample['image'].size(), sample['imgName'])\n",
        "\n",
        "    if i == 3:\n",
        "        break"
      ],
      "execution_count": 18,
      "outputs": [
        {
          "output_type": "stream",
          "text": [
            "0 torch.Size([3, 224, 224]) 4775.jpg\n",
            "1 torch.Size([3, 224, 224]) 6016.jpg\n",
            "2 torch.Size([3, 224, 224]) 595.jpg\n",
            "3 torch.Size([3, 224, 224]) 2454.jpg\n"
          ],
          "name": "stdout"
        }
      ]
    },
    {
      "cell_type": "markdown",
      "metadata": {
        "id": "9d1124n-D1hk"
      },
      "source": [
        "However, we are losing a lot of features by using a simple ``for`` loop to\n",
        "iterate over the data. In particular, we are missing out on:\n",
        "\n",
        "-  Batching the data\n",
        "-  Shuffling the data\n",
        "-  Load the data in parallel using ``multiprocessing`` workers.\n",
        "\n",
        "``torch.utils.data.DataLoader`` is an iterator which provides all these\n",
        "features. Parameters used below should be clear. One parameter of\n",
        "interest is ``collate_fn``. You can specify how exactly the samples need\n",
        "to be batched using ``collate_fn``. However, default collate should work\n",
        "fine for most use cases.\n",
        "\n",
        "\n"
      ]
    },
    {
      "cell_type": "code",
      "metadata": {
        "id": "y32nB9RpD1hm",
        "outputId": "3881e5a6-7438-40d3-ca39-91d7d70b91a7",
        "colab": {
          "base_uri": "https://localhost:8080/",
          "height": 85
        }
      },
      "source": [
        "dataloader = DataLoader(transformed_dataset, batch_size=4,\n",
        "                        shuffle=True, num_workers=0)\n",
        "\n",
        "\n",
        "# Helper function to show a batch\n",
        "def show_Mel_batch(sample_batched):\n",
        "    \"\"\"Show image with landmarks for a batch of samples.\"\"\"\n",
        "    images_batch = sample_batched['image']\n",
        "    batch_size = len(images_batch)\n",
        "    im_size = images_batch.size(2)\n",
        "    grid_border_size = 2\n",
        "\n",
        "    grid = utils.make_grid(images_batch)\n",
        "    plt.imshow(grid.numpy().transpose((1, 2, 0)))\n",
        "\n",
        "    for i in range(batch_size):\n",
        "        plt.title('Batch from dataloader')\n",
        "\n",
        "for i_batch, sample_batched in enumerate(dataloader):\n",
        "    print(i_batch, sample_batched['image'].size() )\n",
        "\n",
        "    if i_batch == 3:\n",
        "        break"
      ],
      "execution_count": 22,
      "outputs": [
        {
          "output_type": "stream",
          "text": [
            "0 torch.Size([4, 3, 224, 224])\n",
            "1 torch.Size([4, 3, 224, 224])\n",
            "2 torch.Size([4, 3, 224, 224])\n",
            "3 torch.Size([4, 3, 224, 224])\n"
          ],
          "name": "stdout"
        }
      ]
    }
  ]
}